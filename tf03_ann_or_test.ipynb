{
 "cells": [
  {
   "cell_type": "markdown",
   "metadata": {
    "colab_type": "text",
    "id": "view-in-github"
   },
   "source": [
    "<a href=\"https://colab.research.google.com/github/chhak/DeepLearning/blob/master/tf03_ann_or_test.ipynb\" target=\"_parent\"><img src=\"https://colab.research.google.com/assets/colab-badge.svg\" alt=\"Open In Colab\"/></a>"
   ]
  },
  {
   "cell_type": "code",
   "execution_count": null,
   "metadata": {
    "colab": {},
    "colab_type": "code",
    "id": "cfXE0L4wQFTW"
   },
   "outputs": [],
   "source": [
    "\"\"\"\n",
    "날짜 : 2020/08/18\n",
    "이름 : 권기민\n",
    "내용 : OR 연산 실습하기\n",
    "\"\"\"\n",
    "import tensorflow as tf\n",
    "import numpy as np\n",
    "from tensorflow.keras.models import Sequential\n",
    "from tensorflow.keras.layers import Dense\n",
    "from tensorflow.keras.optimizers import SGD\n",
    "from tensorflow.keras.losses import mse\n",
    "\n",
    "tf.__version__"
   ]
  },
  {
   "cell_type": "code",
   "execution_count": null,
   "metadata": {
    "colab": {},
    "colab_type": "code",
    "id": "l_cNR1nkRLus"
   },
   "outputs": [],
   "source": [
    "#데이터 준비\n",
    "data = np.array([[0, 0], [0, 1], [1, 0], [1, 1]])\n",
    "label = np.array([[0], [1], [1], [1]])"
   ]
  },
  {
   "cell_type": "code",
   "execution_count": null,
   "metadata": {
    "colab": {},
    "colab_type": "code",
    "id": "MtVopcV4RiMD"
   },
   "outputs": [],
   "source": [
    "#학습모델 설계\n",
    "model = Sequential()\n",
    "model.add(Dense(units=1, input_shape=(2,), activation='sigmoid'))"
   ]
  },
  {
   "cell_type": "code",
   "execution_count": null,
   "metadata": {
    "colab": {},
    "colab_type": "code",
    "id": "J9n8ooK_SBDD"
   },
   "outputs": [],
   "source": [
    "#모델 설정\n",
    "model.compile(optimizer='Adam',\n",
    "              loss=mse,\n",
    "              metrics=['acc'])"
   ]
  },
  {
   "cell_type": "code",
   "execution_count": null,
   "metadata": {
    "colab": {},
    "colab_type": "code",
    "id": "X5F5oPvOSaCz"
   },
   "outputs": [],
   "source": [
    "#학습하기\n",
    "model.fit(data, label, epochs=100)"
   ]
  },
  {
   "cell_type": "code",
   "execution_count": null,
   "metadata": {
    "colab": {
     "base_uri": "https://localhost:8080/",
     "height": 89
    },
    "colab_type": "code",
    "id": "uaiNb_91Skk8",
    "outputId": "c10b299d-fe60-459b-9ee5-79969ed9b065"
   },
   "outputs": [
    {
     "data": {
      "text/plain": [
       "array([[0.52402616],\n",
       "       [0.4918075 ],\n",
       "       [0.6027362 ],\n",
       "       [0.5714886 ]], dtype=float32)"
      ]
     },
     "execution_count": 8,
     "metadata": {
      "tags": []
     },
     "output_type": "execute_result"
    }
   ],
   "source": [
    "#검증하기\n",
    "result = model.predict(data)\n",
    "result\n"
   ]
  }
 ],
 "metadata": {
  "accelerator": "GPU",
  "colab": {
   "authorship_tag": "ABX9TyO0ADP4BnoUVFnxHv3n/8ST",
   "collapsed_sections": [],
   "include_colab_link": true,
   "name": "tf03_ann_or_test.ipynb",
   "provenance": []
  },
  "kernelspec": {
   "display_name": "Python 3",
   "language": "python",
   "name": "python3"
  },
  "language_info": {
   "codemirror_mode": {
    "name": "ipython",
    "version": 3
   },
   "file_extension": ".py",
   "mimetype": "text/x-python",
   "name": "python",
   "nbconvert_exporter": "python",
   "pygments_lexer": "ipython3",
   "version": "3.8.3"
  }
 },
 "nbformat": 4,
 "nbformat_minor": 1
}

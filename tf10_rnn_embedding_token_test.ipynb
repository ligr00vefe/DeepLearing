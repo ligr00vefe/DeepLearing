{
 "cells": [
  {
   "cell_type": "markdown",
   "metadata": {
    "colab_type": "text",
    "id": "view-in-github"
   },
   "source": [
    "<a href=\"https://colab.research.google.com/github/chhak/DeepLearning/blob/master/tf10_rnn_embedding_token_test.ipynb\" target=\"_parent\"><img src=\"https://colab.research.google.com/assets/colab-badge.svg\" alt=\"Open In Colab\"/></a>"
   ]
  },
  {
   "cell_type": "code",
   "execution_count": null,
   "metadata": {
    "colab": {},
    "colab_type": "code",
    "id": "2OKW890T6J4J"
   },
   "outputs": [],
   "source": [
    "\"\"\"\n",
    "날짜 : 2020/\n",
    "이름 : 권기민\n",
    "내용 : Embedding 텍스트 토큰 작업 실습하기 교재 p185\n",
    "\"\"\"\n",
    "import tensorflow as tf\n",
    "from tensorflow.keras.preprocessing.text import Tokenizer\n",
    "from tensorflow.keras.utils import to_categorical\n",
    "tf.__version__"
   ]
  },
  {
   "cell_type": "code",
   "execution_count": null,
   "metadata": {
    "colab": {
     "base_uri": "https://localhost:8080/",
     "height": 35
    },
    "colab_type": "code",
    "id": "0_zpLY8M6q0C",
    "outputId": "880a55a3-fd1e-4d50-e2cd-f2cfb38372bf"
   },
   "outputs": [
    {
     "data": {
      "text/plain": [
       "<keras_preprocessing.text.Tokenizer at 0x7fe60f5222b0>"
      ]
     },
     "execution_count": 8,
     "metadata": {
      "tags": []
     },
     "output_type": "execute_result"
    }
   ],
   "source": [
    "texts = ['You are the Best', \n",
    "         'You are the Nice']\n",
    "\n",
    "tokenizer = Tokenizer(num_words=10, oov_token='<OOV>')\n",
    "tokenizer.fit_on_texts(texts)"
   ]
  },
  {
   "cell_type": "code",
   "execution_count": null,
   "metadata": {
    "colab": {
     "base_uri": "https://localhost:8080/",
     "height": 35
    },
    "colab_type": "code",
    "id": "xhSpaaCv7JIz",
    "outputId": "890af968-d530-4501-8a0c-38362c878542"
   },
   "outputs": [
    {
     "data": {
      "text/plain": [
       "[[2, 3, 4, 5], [2, 3, 4, 6]]"
      ]
     },
     "execution_count": 10,
     "metadata": {
      "tags": []
     },
     "output_type": "execute_result"
    }
   ],
   "source": [
    "#텍스트 데이터를 정수 인덱스 형태로 변환\n",
    "sequences = tokenizer.texts_to_sequences(texts)\n",
    "sequences"
   ]
  },
  {
   "cell_type": "code",
   "execution_count": null,
   "metadata": {
    "colab": {
     "base_uri": "https://localhost:8080/",
     "height": 89
    },
    "colab_type": "code",
    "id": "kQu9Yv7I7b2P",
    "outputId": "667d9d67-f543-421a-c837-38fe6ba2fc3d"
   },
   "outputs": [
    {
     "name": "stdout",
     "output_type": "stream",
     "text": [
      "{'<OOV>': 1, 'you': 2, 'are': 3, 'the': 4, 'best': 5, 'nice': 6}\n",
      "[[2, 3, 4, 5], [2, 3, 4, 6]]\n",
      "[[0. 0. 1. 1. 1. 1. 0. 0. 0. 0.]\n",
      " [0. 0. 1. 1. 1. 0. 1. 0. 0. 0.]]\n"
     ]
    }
   ],
   "source": [
    "#이진 데이터로 인코딩\n",
    "binary_results = tokenizer.sequences_to_matrix(sequences, mode='binary')\n",
    "\n",
    "print(tokenizer.word_index)\n",
    "print(sequences)\n",
    "print(binary_results)\n"
   ]
  }
 ],
 "metadata": {
  "accelerator": "GPU",
  "colab": {
   "authorship_tag": "ABX9TyNBkh+XhghLgTcqY2Y3ilf6",
   "collapsed_sections": [],
   "include_colab_link": true,
   "name": "tf10_rnn_embedding_token_test.ipynb",
   "provenance": []
  },
  "kernelspec": {
   "display_name": "Python 3",
   "language": "python",
   "name": "python3"
  },
  "language_info": {
   "codemirror_mode": {
    "name": "ipython",
    "version": 3
   },
   "file_extension": ".py",
   "mimetype": "text/x-python",
   "name": "python",
   "nbconvert_exporter": "python",
   "pygments_lexer": "ipython3",
   "version": "3.8.3"
  }
 },
 "nbformat": 4,
 "nbformat_minor": 1
}

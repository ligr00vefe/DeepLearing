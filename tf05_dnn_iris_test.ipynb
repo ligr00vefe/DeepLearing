{
 "cells": [
  {
   "cell_type": "markdown",
   "metadata": {
    "colab_type": "text",
    "id": "view-in-github"
   },
   "source": [
    "<a href=\"https://colab.research.google.com/github/chhak/DeepLearning/blob/master/tf05_dnn_iris_test.ipynb\" target=\"_parent\"><img src=\"https://colab.research.google.com/assets/colab-badge.svg\" alt=\"Open In Colab\"/></a>"
   ]
  },
  {
   "cell_type": "code",
   "execution_count": null,
   "metadata": {
    "colab": {},
    "colab_type": "code",
    "id": "d5U6xzmfbtGs"
   },
   "outputs": [],
   "source": [
    "\"\"\"\n",
    "날짜 : 2020/08/18\n",
    "이름 : 권기민\n",
    "내용 : iris 딥러닝 실습하기\n",
    "\"\"\"\n",
    "import tensorflow as tf\n",
    "import numpy as np\n",
    "import pandas as pd\n",
    "from tensorflow.keras.models import Sequential\n",
    "from tensorflow.keras.layers import Dense\n",
    "from tensorflow.keras.utils import to_categorical\n",
    "from sklearn.preprocessing import LabelEncoder\n",
    "from sklearn.model_selection import train_test_split\n",
    "tf.__version__"
   ]
  },
  {
   "cell_type": "code",
   "execution_count": null,
   "metadata": {
    "colab": {},
    "colab_type": "code",
    "id": "MzoADHRRcimz"
   },
   "outputs": [],
   "source": [
    "#구글 드라이브 연동\n",
    "from google.colab import drive\n",
    "drive.mount('/content/drive')"
   ]
  },
  {
   "cell_type": "code",
   "execution_count": null,
   "metadata": {
    "colab": {},
    "colab_type": "code",
    "id": "2XWc5V6keFTY"
   },
   "outputs": [],
   "source": [
    "#학습데이터 로드하기\n",
    "df_iris = pd.read_csv('/content/drive/My Drive/Tensorflow_works/data/iris.csv')\n",
    "df_iris"
   ]
  },
  {
   "cell_type": "code",
   "execution_count": null,
   "metadata": {
    "colab": {
     "base_uri": "https://localhost:8080/",
     "height": 233
    },
    "colab_type": "code",
    "id": "U6lD6qzteZyH",
    "outputId": "6ae1cd8b-44a6-4e9e-c734-d5df2da4ef56"
   },
   "outputs": [
    {
     "data": {
      "text/plain": [
       "0         Setosa\n",
       "1         Setosa\n",
       "2         Setosa\n",
       "3         Setosa\n",
       "4         Setosa\n",
       "         ...    \n",
       "145    Virginica\n",
       "146    Virginica\n",
       "147    Virginica\n",
       "148    Virginica\n",
       "149    Virginica\n",
       "Name: variety, Length: 150, dtype: object"
      ]
     },
     "execution_count": 58,
     "metadata": {
      "tags": []
     },
     "output_type": "execute_result"
    }
   ],
   "source": [
    "#데이터셋 가공\n",
    "df_iris_data  = df_iris[['sepal.length', 'sepal.width', 'petal.length', 'petal.width']]\n",
    "df_iris_label = df_iris['variety']\n",
    "df_iris_label"
   ]
  },
  {
   "cell_type": "code",
   "execution_count": null,
   "metadata": {
    "colab": {},
    "colab_type": "code",
    "id": "Q0jMje-ufITy"
   },
   "outputs": [],
   "source": [
    "#원-핫 인코딩(문자열로 된 label을 0과 1로 부호화)으로 변환\n",
    "encoder = LabelEncoder()\n",
    "encoder.fit(df_iris_label)\n",
    "transformed_label = encoder.transform(df_iris_label)\n",
    "df_iris_label_cate = to_categorical(transformed_label)"
   ]
  },
  {
   "cell_type": "code",
   "execution_count": null,
   "metadata": {
    "colab": {},
    "colab_type": "code",
    "id": "rQEAjF5bmEm8"
   },
   "outputs": [],
   "source": [
    "#학습데이터 검증데이터 분류\n",
    "train_data, test_data, train_label, test_label = train_test_split(df_iris_data, df_iris_label_cate)"
   ]
  },
  {
   "cell_type": "code",
   "execution_count": null,
   "metadata": {
    "colab": {},
    "colab_type": "code",
    "id": "TZSE8T54gdtJ"
   },
   "outputs": [],
   "source": [
    "#학습모델 구성하기\n",
    "model = Sequential()\n",
    "model.add(Dense(units=4, input_dim=4, activation='sigmoid'))\n",
    "model.add(Dense(units=3, activation='sigmoid'))"
   ]
  },
  {
   "cell_type": "markdown",
   "metadata": {
    "colab_type": "text",
    "id": "meGi2D3fpJCV"
   },
   "source": []
  },
  {
   "cell_type": "code",
   "execution_count": null,
   "metadata": {
    "colab": {},
    "colab_type": "code",
    "id": "8dtIQQQOhaui"
   },
   "outputs": [],
   "source": [
    "#학습모델 설정\n",
    "#loss='mean_squared_error' : 수치예측\n",
    "#loss='categorical_crossentropy' : 다중분류\n",
    "#loss='binary_crossentropy' : 이진분류\n",
    "model.compile(loss='categorical_crossentropy', \n",
    "              optimizer='adam', \n",
    "              metrics=['acc'])"
   ]
  },
  {
   "cell_type": "code",
   "execution_count": null,
   "metadata": {
    "colab": {},
    "colab_type": "code",
    "id": "UsriyxcniOLK"
   },
   "outputs": [],
   "source": [
    "#모델학습\n",
    "model.fit(train_data, train_label, epochs=1000)"
   ]
  },
  {
   "cell_type": "code",
   "execution_count": null,
   "metadata": {
    "colab": {
     "base_uri": "https://localhost:8080/",
     "height": 53
    },
    "colab_type": "code",
    "id": "otx0IN9jiqw5",
    "outputId": "e6c7a057-d58c-4d9f-9585-acdccacd2d73"
   },
   "outputs": [
    {
     "name": "stdout",
     "output_type": "stream",
     "text": [
      "2/2 [==============================] - 0s 1ms/step - loss: 0.2230 - acc: 0.9474\n"
     ]
    },
    {
     "data": {
      "text/plain": [
       "[0.2230355143547058, 0.9473684430122375]"
      ]
     },
     "execution_count": 68,
     "metadata": {
      "tags": []
     },
     "output_type": "execute_result"
    }
   ],
   "source": [
    "#검증\n",
    "result = model.evaluate(test_data, test_label)\n",
    "result"
   ]
  },
  {
   "cell_type": "code",
   "execution_count": null,
   "metadata": {
    "colab": {},
    "colab_type": "code",
    "id": "iorJqccknc5T"
   },
   "outputs": [],
   "source": []
  }
 ],
 "metadata": {
  "colab": {
   "authorship_tag": "ABX9TyNMf4HlrPlEL8PX2mb+4dw6",
   "collapsed_sections": [],
   "include_colab_link": true,
   "name": "tf05_dnn_iris_test.ipynb",
   "provenance": []
  },
  "kernelspec": {
   "display_name": "Python 3",
   "language": "python",
   "name": "python3"
  },
  "language_info": {
   "codemirror_mode": {
    "name": "ipython",
    "version": 3
   },
   "file_extension": ".py",
   "mimetype": "text/x-python",
   "name": "python",
   "nbconvert_exporter": "python",
   "pygments_lexer": "ipython3",
   "version": "3.8.3"
  }
 },
 "nbformat": 4,
 "nbformat_minor": 1
}

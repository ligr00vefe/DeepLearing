{
 "cells": [
  {
   "cell_type": "markdown",
   "metadata": {
    "colab_type": "text",
    "id": "view-in-github"
   },
   "source": [
    "<a href=\"https://colab.research.google.com/github/chhak/DeepLearning/blob/master/Text_movie_sentiment_test.ipynb\" target=\"_parent\"><img src=\"https://colab.research.google.com/assets/colab-badge.svg\" alt=\"Open In Colab\"/></a>"
   ]
  },
  {
   "cell_type": "code",
   "execution_count": null,
   "metadata": {
    "colab": {
     "base_uri": "https://localhost:8080/",
     "height": 127
    },
    "colab_type": "code",
    "id": "ue0q_qero_sz",
    "outputId": "5d80c0d3-d05f-42aa-d52d-23c3047558ac"
   },
   "outputs": [
    {
     "name": "stdout",
     "output_type": "stream",
     "text": [
      "Go to this URL in a browser: https://accounts.google.com/o/oauth2/auth?client_id=947318989803-6bn6qk8qdgf4n4g3pfee6491hc0brc4i.apps.googleusercontent.com&redirect_uri=urn%3aietf%3awg%3aoauth%3a2.0%3aoob&scope=email%20https%3a%2f%2fwww.googleapis.com%2fauth%2fdocs.test%20https%3a%2f%2fwww.googleapis.com%2fauth%2fdrive%20https%3a%2f%2fwww.googleapis.com%2fauth%2fdrive.photos.readonly%20https%3a%2f%2fwww.googleapis.com%2fauth%2fpeopleapi.readonly&response_type=code\n",
      "\n",
      "Enter your authorization code:\n",
      "··········\n",
      "Mounted at /content/drive\n"
     ]
    }
   ],
   "source": [
    "#구글 드라이브 연동\n",
    "from google.colab import drive\n",
    "drive.mount('/content/drive')"
   ]
  },
  {
   "cell_type": "code",
   "execution_count": null,
   "metadata": {
    "colab": {},
    "colab_type": "code",
    "id": "COZLtltzpH3w"
   },
   "outputs": [],
   "source": [
    "\"\"\"\n",
    "날짜 : 2020/09/08\n",
    "이름 : 권기민\n",
    "내용 : 학습된 영화리뷰 모델 테스트하기\n",
    "\"\"\"\n",
    "from keras.models import load_model\n",
    "from tensorflow.keras.preprocessing.text import Tokenizer\n",
    "from tensorflow.keras.preprocessing.sequence import pad_sequences"
   ]
  },
  {
   "cell_type": "code",
   "execution_count": null,
   "metadata": {
    "colab": {},
    "colab_type": "code",
    "id": "8TO6Ky0tplTH"
   },
   "outputs": [],
   "source": [
    "# 파일 로드 함수정의\n",
    "def load_data(file):\n",
    "  result = []\n",
    "\n",
    "  with open(file, 'r', encoding='utf-8') as f:\n",
    "    lines = f.read().splitlines()\n",
    "\n",
    "    for line in lines:\n",
    "      data = line.split('\\t')\n",
    "      result.append(data)\n",
    "\n",
    "  result = result[1:] # header정보 제외\n",
    "  return result"
   ]
  },
  {
   "cell_type": "code",
   "execution_count": null,
   "metadata": {
    "colab": {
     "base_uri": "https://localhost:8080/",
     "height": 35
    },
    "colab_type": "code",
    "id": "chDE3n1lpvVv",
    "outputId": "937b9e30-50fc-48e6-a372-5399e9476271"
   },
   "outputs": [
    {
     "data": {
      "text/plain": [
       "['9976970', '아 더빙.. 진짜 짜증나네요 목소리', '0']"
      ]
     },
     "execution_count": 4,
     "metadata": {
      "tags": []
     },
     "output_type": "execute_result"
    }
   ],
   "source": [
    "# 데이터 파일 로드\n",
    "train_data = load_data('/content/drive/My Drive/Tensorflow_works/data/ratings_train.txt')\n",
    "train_data[0]"
   ]
  },
  {
   "cell_type": "code",
   "execution_count": null,
   "metadata": {
    "colab": {},
    "colab_type": "code",
    "id": "WYt6Zcehp3Zn"
   },
   "outputs": [],
   "source": [
    "# 최대 5000개의 단어를 갖는 단어사전 생성\n",
    "train_x = []\n",
    "\n",
    "for i in range(len(train_data)):\n",
    "  train_x.append(train_data[i][1])\n",
    "\n",
    "tokenizer = Tokenizer(num_words=5000)\n",
    "tokenizer.fit_on_texts(train_x)"
   ]
  },
  {
   "cell_type": "code",
   "execution_count": null,
   "metadata": {
    "colab": {},
    "colab_type": "code",
    "id": "Qml0VMOEqOnf"
   },
   "outputs": [],
   "source": [
    "# 테스트 데이터 생성 및 전처리\n",
    "test_data = ['시간 가는 줄 모르고 봤습니다.',\n",
    "             '시간 낭비 했어요...',\n",
    "             '돈 아까워요...',\n",
    "             '올해 최고의 영화 입니다.',\n",
    "             '초반에는 재밌었는데 중반으로 갈수록...',\n",
    "             '가족 영화로 추천합니다.',\n",
    "             '영화 보면서 잠만 잤습니다.',\n",
    "             '역시 믿고 보는 송강호!!!',\n",
    "             '와 이거 감독판으로 나왔으면 좋겠다.',\n",
    "             '스토리가 없어요. 정말이에요.']\n",
    "\n",
    "token_test_data = tokenizer.texts_to_sequences(test_data)\n",
    "#token_test_data\n",
    "\n",
    "pad_test_data = pad_sequences(token_test_data, maxlen=100)\n",
    "pad_test_data"
   ]
  },
  {
   "cell_type": "code",
   "execution_count": null,
   "metadata": {
    "colab": {
     "base_uri": "https://localhost:8080/",
     "height": 35
    },
    "colab_type": "code",
    "id": "xaUzGh87rEdn",
    "outputId": "fce6dacf-59ff-4540-855b-019b2922080d"
   },
   "outputs": [
    {
     "data": {
      "text/plain": [
       "<tensorflow.python.keras.engine.sequential.Sequential at 0x7f966fa427b8>"
      ]
     },
     "execution_count": 21,
     "metadata": {
      "tags": []
     },
     "output_type": "execute_result"
    }
   ],
   "source": [
    "# 모델 로드\n",
    "model = load_model('/content/drive/My Drive/Tensorflow_works/model/review.model')\n",
    "model"
   ]
  },
  {
   "cell_type": "code",
   "execution_count": null,
   "metadata": {
    "colab": {
     "base_uri": "https://localhost:8080/",
     "height": 235
    },
    "colab_type": "code",
    "id": "UXtvQdOar20g",
    "outputId": "15bc67e2-d51f-4dc8-835d-ca0ef27c4865"
   },
   "outputs": [
    {
     "name": "stdout",
     "output_type": "stream",
     "text": [
      "WARNING:tensorflow:5 out of the last 10 calls to <function Model.make_predict_function.<locals>.predict_function at 0x7f966f9042f0> triggered tf.function retracing. Tracing is expensive and the excessive number of tracings could be due to (1) creating @tf.function repeatedly in a loop, (2) passing tensors with different shapes, (3) passing Python objects instead of tensors. For (1), please define your @tf.function outside of the loop. For (2), @tf.function has experimental_relax_shapes=True option that relaxes argument shapes that can avoid unnecessary retracing. For (3), please refer to https://www.tensorflow.org/tutorials/customization/performance#python_or_tensor_args and https://www.tensorflow.org/api_docs/python/tf/function for  more details.\n"
     ]
    },
    {
     "data": {
      "text/plain": [
       "array([[9.7447854e-01],\n",
       "       [1.4838576e-04],\n",
       "       [3.8535506e-02],\n",
       "       [9.8831236e-01],\n",
       "       [4.2185155e-01],\n",
       "       [9.5332420e-01],\n",
       "       [5.9692550e-01],\n",
       "       [9.9803996e-01],\n",
       "       [9.8128080e-01],\n",
       "       [1.1123407e-01]], dtype=float32)"
      ]
     },
     "execution_count": 22,
     "metadata": {
      "tags": []
     },
     "output_type": "execute_result"
    }
   ],
   "source": [
    "# 모델 테스트\n",
    "result = model.predict(pad_test_data)\n",
    "result"
   ]
  },
  {
   "cell_type": "code",
   "execution_count": null,
   "metadata": {
    "colab": {},
    "colab_type": "code",
    "id": "n8u78Q6vsxmx"
   },
   "outputs": [],
   "source": []
  }
 ],
 "metadata": {
  "colab": {
   "authorship_tag": "ABX9TyPn909TZ6qHRheHhJaVLFzo",
   "collapsed_sections": [],
   "include_colab_link": true,
   "name": "Text_movie_sentiment_test.ipynb",
   "provenance": []
  },
  "kernelspec": {
   "display_name": "Python 3",
   "language": "python",
   "name": "python3"
  },
  "language_info": {
   "codemirror_mode": {
    "name": "ipython",
    "version": 3
   },
   "file_extension": ".py",
   "mimetype": "text/x-python",
   "name": "python",
   "nbconvert_exporter": "python",
   "pygments_lexer": "ipython3",
   "version": "3.8.3"
  }
 },
 "nbformat": 4,
 "nbformat_minor": 1
}

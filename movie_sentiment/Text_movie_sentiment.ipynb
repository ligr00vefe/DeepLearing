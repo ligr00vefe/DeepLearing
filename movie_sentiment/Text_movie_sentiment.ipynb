{
 "cells": [
  {
   "cell_type": "markdown",
   "metadata": {
    "colab_type": "text",
    "id": "view-in-github"
   },
   "source": [
    "<a href=\"https://colab.research.google.com/github/chhak/DeepLearning/blob/master/Text_movie_sentiment.ipynb\" target=\"_parent\"><img src=\"https://colab.research.google.com/assets/colab-badge.svg\" alt=\"Open In Colab\"/></a>"
   ]
  },
  {
   "cell_type": "code",
   "execution_count": null,
   "metadata": {
    "colab": {},
    "colab_type": "code",
    "id": "tNLo5W_IdWke"
   },
   "outputs": [],
   "source": [
    "#구글 드라이브 연동\n",
    "from google.colab import drive\n",
    "drive.mount('/content/drive')"
   ]
  },
  {
   "cell_type": "code",
   "execution_count": null,
   "metadata": {
    "colab": {},
    "colab_type": "code",
    "id": "yEgaCSE6cIGO"
   },
   "outputs": [],
   "source": [
    "\"\"\"\n",
    "날짜 : 2020/09/08\n",
    "이름 : 권기민\n",
    "내용 : 영화 리뷰 감성 분석하기\n",
    "\"\"\"\n",
    "import codecs\n",
    "import numpy as np\n",
    "from tensorflow.keras.preprocessing import sequence\n",
    "from tensorflow.keras.preprocessing.text import Tokenizer\n",
    "from tensorflow.keras.preprocessing.sequence import pad_sequences\n",
    "from tensorflow.keras.models import Sequential\n",
    "from tensorflow.keras.layers import Dense, Embedding\n",
    "from tensorflow.keras.layers import LSTM"
   ]
  },
  {
   "cell_type": "code",
   "execution_count": null,
   "metadata": {
    "colab": {},
    "colab_type": "code",
    "id": "XwTfRe0JczxD"
   },
   "outputs": [],
   "source": [
    "# 파일 로드 함수정의\n",
    "def load_data(file):\n",
    "  result = []\n",
    "\n",
    "  with open(file, 'r', encoding='utf-8') as f:\n",
    "    lines = f.read().splitlines()\n",
    "\n",
    "    for line in lines:\n",
    "      data = line.split('\\t')\n",
    "      result.append(data)\n",
    "\n",
    "  result = result[1:] # header정보 제외\n",
    "  return result\n",
    "\n",
    "# 데이터셋 생성 함수정의\n",
    "def make_dataset(train_data, test_data):\n",
    "  #학습용\n",
    "  train_x = []\n",
    "  train_y = []\n",
    "\n",
    "  for i in range(len(train_data)):\n",
    "    train_x.append(train_data[i][1])\n",
    "    train_y.append(int(train_data[i][2]))\n",
    "\n",
    "  #테스트용\n",
    "  test_x = []\n",
    "  test_y = []\n",
    "\n",
    "  for i in range(len(test_data)):\n",
    "    test_x.append(test_data[i][1])\n",
    "    test_y.append(int(test_data[i][2]))\n",
    "\n",
    "  # 최대 5000개의 단어를 갖는 단어사전 생성\n",
    "  tokenizer = Tokenizer(num_words=5000)\n",
    "  tokenizer.fit_on_texts(train_x)\n",
    "\n",
    "  # BOW 표기\n",
    "  token_train_x = tokenizer.texts_to_sequences(train_x)\n",
    "  token_test_x = tokenizer.texts_to_sequences(test_x)\n",
    "\n",
    "  return (token_train_x, train_y), (token_test_x, test_y)"
   ]
  },
  {
   "cell_type": "code",
   "execution_count": null,
   "metadata": {
    "colab": {
     "base_uri": "https://localhost:8080/",
     "height": 35
    },
    "colab_type": "code",
    "id": "-LHnOU6lkN_P",
    "outputId": "20f4a568-69a0-45be-e790-844e154e8abd"
   },
   "outputs": [
    {
     "data": {
      "text/plain": [
       "['9976970', '아 더빙.. 진짜 짜증나네요 목소리', '0']"
      ]
     },
     "execution_count": 8,
     "metadata": {
      "tags": []
     },
     "output_type": "execute_result"
    }
   ],
   "source": [
    "# 데이터 파일 로드\n",
    "train_data = load_data('/content/drive/My Drive/Tensorflow_works/data/ratings_train.txt')\n",
    "test_data = load_data('/content/drive/My Drive/Tensorflow_works/data/ratings_test.txt')\n",
    "train_data[0]"
   ]
  },
  {
   "cell_type": "code",
   "execution_count": null,
   "metadata": {
    "colab": {
     "base_uri": "https://localhost:8080/",
     "height": 35
    },
    "colab_type": "code",
    "id": "iDefqRlskgXN",
    "outputId": "4ccdf158-7423-4fb3-c082-74ba9712bb99"
   },
   "outputs": [
    {
     "name": "stdout",
     "output_type": "stream",
     "text": [
      "[23, 936, 4, 1097] 0\n"
     ]
    }
   ],
   "source": [
    "# 데이터셋 생성\n",
    "(train_x, train_y), (test_x, test_y) = make_dataset(train_data, test_data)"
   ]
  },
  {
   "cell_type": "code",
   "execution_count": null,
   "metadata": {
    "colab": {},
    "colab_type": "code",
    "id": "9hWJsMjmk8pr"
   },
   "outputs": [],
   "source": [
    "# 데이터셋 확인\n",
    "print(train_x[0], train_y[0])\n",
    "print(train_x[1], train_y[1])\n",
    "print(test_x[0], test_y[0])\n",
    "print(test_x[49999], test_y[49999])"
   ]
  },
  {
   "cell_type": "code",
   "execution_count": null,
   "metadata": {
    "colab": {
     "base_uri": "https://localhost:8080/",
     "height": 197
    },
    "colab_type": "code",
    "id": "XlkJPlLWl2JO",
    "outputId": "7b5e6515-4e00-41ec-a32d-aa7bdbf5998c"
   },
   "outputs": [
    {
     "data": {
      "text/plain": [
       "array([   0,    0,    0,    0,    0,    0,    0,    0,    0,    0,    0,\n",
       "          0,    0,    0,    0,    0,    0,    0,    0,    0,    0,    0,\n",
       "          0,    0,    0,    0,    0,    0,    0,    0,    0,    0,    0,\n",
       "          0,    0,    0,    0,    0,    0,    0,    0,    0,    0,    0,\n",
       "          0,    0,    0,    0,    0,    0,    0,    0,    0,    0,    0,\n",
       "          0,    0,    0,    0,    0,    0,    0,    0,    0,    0,    0,\n",
       "          0,    0,    0,    0,    0,    0,    0,    0,    0,    0,    0,\n",
       "          0,    0,    0,    0,    0,    0,    0,    0,    0,    0,    0,\n",
       "          0,    0,    0,    0,    0,    0,    0,    0,   23,  936,    4,\n",
       "       1097], dtype=int32)"
      ]
     },
     "execution_count": 15,
     "metadata": {
      "tags": []
     },
     "output_type": "execute_result"
    }
   ],
   "source": [
    "# 데이터 전처리\n",
    "train_x = sequence.pad_sequences(train_x, maxlen=100)\n",
    "test_x = sequence.pad_sequences(test_x, maxlen=100)\n",
    "\n",
    "train_y = np.array(train_y)\n",
    "test_y = np.array(test_y)\n",
    "\n",
    "train_x[0]"
   ]
  },
  {
   "cell_type": "code",
   "execution_count": null,
   "metadata": {
    "colab": {
     "base_uri": "https://localhost:8080/",
     "height": 269
    },
    "colab_type": "code",
    "id": "sXc_l_kwnGQP",
    "outputId": "d7f8c236-7e79-4d35-b46b-769d75d7bc51"
   },
   "outputs": [
    {
     "name": "stdout",
     "output_type": "stream",
     "text": [
      "Model: \"sequential_1\"\n",
      "_________________________________________________________________\n",
      "Layer (type)                 Output Shape              Param #   \n",
      "=================================================================\n",
      "embedding_1 (Embedding)      (None, None, 128)         640000    \n",
      "_________________________________________________________________\n",
      "lstm_1 (LSTM)                (None, 128)               131584    \n",
      "_________________________________________________________________\n",
      "dense_1 (Dense)              (None, 1)                 129       \n",
      "=================================================================\n",
      "Total params: 771,713\n",
      "Trainable params: 771,713\n",
      "Non-trainable params: 0\n",
      "_________________________________________________________________\n"
     ]
    }
   ],
   "source": [
    "# 모델 구성\n",
    "model = Sequential()\n",
    "model.add(Embedding(5000, 128))\n",
    "model.add(LSTM(128, dropout=0.2))\n",
    "model.add(Dense(1, activation='sigmoid'))\n",
    "\n",
    "model.summary()"
   ]
  },
  {
   "cell_type": "code",
   "execution_count": null,
   "metadata": {
    "colab": {},
    "colab_type": "code",
    "id": "Cn4WVBJfmoHn"
   },
   "outputs": [],
   "source": [
    "# 모델 설정\n",
    "model.compile(optimizer='adam',\n",
    "              loss='binary_crossentropy',\n",
    "              metrics=['acc'])"
   ]
  },
  {
   "cell_type": "code",
   "execution_count": null,
   "metadata": {
    "colab": {
     "base_uri": "https://localhost:8080/",
     "height": 395
    },
    "colab_type": "code",
    "id": "VtAK34R2nCg-",
    "outputId": "8bdfca8a-90ee-4d20-eebe-49cd5cebb6d4"
   },
   "outputs": [
    {
     "name": "stdout",
     "output_type": "stream",
     "text": [
      "Epoch 1/10\n",
      "1172/1172 [==============================] - 44s 37ms/step - loss: 0.4503 - acc: 0.7679\n",
      "Epoch 2/10\n",
      "1172/1172 [==============================] - 42s 35ms/step - loss: 0.4059 - acc: 0.7916\n",
      "Epoch 3/10\n",
      "1172/1172 [==============================] - 41s 35ms/step - loss: 0.3886 - acc: 0.8005\n",
      "Epoch 4/10\n",
      "1172/1172 [==============================] - 42s 36ms/step - loss: 0.3733 - acc: 0.8064\n",
      "Epoch 5/10\n",
      "1172/1172 [==============================] - 41s 35ms/step - loss: 0.3602 - acc: 0.8137\n",
      "Epoch 6/10\n",
      "1172/1172 [==============================] - 41s 35ms/step - loss: 0.3484 - acc: 0.8175\n",
      "Epoch 7/10\n",
      "1172/1172 [==============================] - 41s 35ms/step - loss: 0.3353 - acc: 0.8254\n",
      "Epoch 8/10\n",
      "1172/1172 [==============================] - 41s 35ms/step - loss: 0.3201 - acc: 0.8329\n",
      "Epoch 9/10\n",
      "1172/1172 [==============================] - 41s 35ms/step - loss: 0.3065 - acc: 0.8386\n",
      "Epoch 10/10\n",
      "1172/1172 [==============================] - 41s 35ms/step - loss: 0.2931 - acc: 0.8445\n"
     ]
    },
    {
     "data": {
      "text/plain": [
       "<tensorflow.python.keras.callbacks.History at 0x7fb5a92eaf60>"
      ]
     },
     "execution_count": 20,
     "metadata": {
      "tags": []
     },
     "output_type": "execute_result"
    }
   ],
   "source": [
    "# 모델 학습 - 1시간 소요\n",
    "model.fit(train_x, \n",
    "          train_y,\n",
    "          batch_size = 128,\n",
    "          epochs = 10)"
   ]
  },
  {
   "cell_type": "code",
   "execution_count": null,
   "metadata": {
    "colab": {
     "base_uri": "https://localhost:8080/",
     "height": 53
    },
    "colab_type": "code",
    "id": "dOJ7Cw1xoBDQ",
    "outputId": "7e1ac2d0-35d4-41a1-bce7-a05b798fef1f"
   },
   "outputs": [
    {
     "name": "stdout",
     "output_type": "stream",
     "text": [
      "391/391 [==============================] - 5s 13ms/step - loss: 0.5350 - acc: 0.7687\n"
     ]
    },
    {
     "data": {
      "text/plain": [
       "[0.5349799394607544, 0.7687199711799622]"
      ]
     },
     "execution_count": 21,
     "metadata": {
      "tags": []
     },
     "output_type": "execute_result"
    }
   ],
   "source": [
    "# 모델 성능확인\n",
    "result = model.evaluate(test_x, test_y, batch_size=128)\n",
    "result"
   ]
  },
  {
   "cell_type": "code",
   "execution_count": null,
   "metadata": {
    "colab": {
     "base_uri": "https://localhost:8080/",
     "height": 163
    },
    "colab_type": "code",
    "id": "tganE38IoBcn",
    "outputId": "537488b4-57da-41d0-ddcd-2a74093adff6"
   },
   "outputs": [
    {
     "name": "stdout",
     "output_type": "stream",
     "text": [
      "WARNING:tensorflow:From /usr/local/lib/python3.6/dist-packages/tensorflow/python/training/tracking/tracking.py:111: Model.state_updates (from tensorflow.python.keras.engine.training) is deprecated and will be removed in a future version.\n",
      "Instructions for updating:\n",
      "This property should not be used in TensorFlow 2.0, as updates are applied automatically.\n",
      "WARNING:tensorflow:From /usr/local/lib/python3.6/dist-packages/tensorflow/python/training/tracking/tracking.py:111: Layer.updates (from tensorflow.python.keras.engine.base_layer) is deprecated and will be removed in a future version.\n",
      "Instructions for updating:\n",
      "This property should not be used in TensorFlow 2.0, as updates are applied automatically.\n",
      "INFO:tensorflow:Assets written to: /content/drive/My Drive/Tensorflow_works/model/review1.model/assets\n"
     ]
    }
   ],
   "source": [
    "# 모델 저장\n",
    "model.save('/content/drive/My Drive/Tensorflow_works/model/review1.model')"
   ]
  },
  {
   "cell_type": "code",
   "execution_count": null,
   "metadata": {
    "colab": {},
    "colab_type": "code",
    "id": "D5V1SD9pri9Q"
   },
   "outputs": [],
   "source": []
  }
 ],
 "metadata": {
  "accelerator": "GPU",
  "colab": {
   "authorship_tag": "ABX9TyO/OqX+xMdglcl9Ag1OoKPD",
   "collapsed_sections": [],
   "include_colab_link": true,
   "name": "Text_movie_sentiment.ipynb",
   "provenance": []
  },
  "kernelspec": {
   "display_name": "Python 3",
   "language": "python",
   "name": "python3"
  },
  "language_info": {
   "codemirror_mode": {
    "name": "ipython",
    "version": 3
   },
   "file_extension": ".py",
   "mimetype": "text/x-python",
   "name": "python",
   "nbconvert_exporter": "python",
   "pygments_lexer": "ipython3",
   "version": "3.8.3"
  }
 },
 "nbformat": 4,
 "nbformat_minor": 1
}

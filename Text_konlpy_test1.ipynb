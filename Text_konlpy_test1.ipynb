{
 "cells": [
  {
   "cell_type": "markdown",
   "metadata": {
    "colab_type": "text",
    "id": "view-in-github"
   },
   "source": [
    "<a href=\"https://colab.research.google.com/github/chhak/DeepLearning/blob/master/Text_konlpy_test1.ipynb\" target=\"_parent\"><img src=\"https://colab.research.google.com/assets/colab-badge.svg\" alt=\"Open In Colab\"/></a>"
   ]
  },
  {
   "cell_type": "code",
   "execution_count": null,
   "metadata": {
    "colab": {},
    "colab_type": "code",
    "id": "xPhtLTq5KDvZ"
   },
   "outputs": [],
   "source": [
    "pip install konlpy"
   ]
  },
  {
   "cell_type": "code",
   "execution_count": null,
   "metadata": {
    "colab": {},
    "colab_type": "code",
    "id": "gPMtpqG9JW0S"
   },
   "outputs": [],
   "source": [
    "\"\"\"\n",
    "날짜 : 2020/09/08\n",
    "이름 : 권기민\n",
    "내용 : konlpy 패키지 형태소 분석 실습하기\n",
    "\"\"\"\n",
    "from konlpy.tag import Okt\n",
    "from konlpy.tag import Kkma"
   ]
  },
  {
   "cell_type": "code",
   "execution_count": null,
   "metadata": {
    "colab": {},
    "colab_type": "code",
    "id": "hvWZp9faJ5QG"
   },
   "outputs": [],
   "source": [
    "# 한글 형태소 분석기 생성\n",
    "okt = Okt() # Twitter 분석기 Open Korean Text\n",
    "kkma = Kkma()"
   ]
  },
  {
   "cell_type": "code",
   "execution_count": null,
   "metadata": {
    "colab": {
     "base_uri": "https://localhost:8080/",
     "height": 52
    },
    "colab_type": "code",
    "id": "FwggPwNsKeQH",
    "outputId": "6493f7c2-39cb-465f-8ff4-1164d587e293"
   },
   "outputs": [
    {
     "name": "stdout",
     "output_type": "stream",
     "text": [
      "[('나', 'Noun'), ('는', 'Josa'), ('보리밥', 'Noun'), ('을', 'Josa'), ('먹었다', 'Verb'), ('.', 'Punctuation')]\n",
      "[('나', 'NP'), ('는', 'JX'), ('보리밥', 'NNG'), ('을', 'JKO'), ('먹', 'VV'), ('었', 'EPT'), ('다', 'EFN'), ('.', 'SF')]\n"
     ]
    }
   ],
   "source": [
    "# 형태소 분석 실행\n",
    "oktResult = okt.pos('나는 보리밥을 먹었다.')\n",
    "print(oktResult)\n",
    "\n",
    "kkmaResult = kkma.pos('나는 보리밥을 먹었다.')\n",
    "print(kkmaResult)"
   ]
  },
  {
   "cell_type": "code",
   "execution_count": null,
   "metadata": {
    "colab": {
     "base_uri": "https://localhost:8080/",
     "height": 262
    },
    "colab_type": "code",
    "id": "GGxQHEtkK-hH",
    "outputId": "51a7860d-33ec-477b-e548-1875510d24d3"
   },
   "outputs": [
    {
     "data": {
      "text/plain": [
       "[('흠', 'Noun'),\n",
       " ('...', 'Punctuation'),\n",
       " ('포스터', 'Noun'),\n",
       " ('보고', 'Noun'),\n",
       " ('초딩', 'Noun'),\n",
       " ('영화', 'Noun'),\n",
       " ('줄', 'Noun'),\n",
       " ('....', 'Punctuation'),\n",
       " ('오버', 'Noun'),\n",
       " ('연기', 'Noun'),\n",
       " ('조차', 'Josa'),\n",
       " ('가볍다', 'Adjective'),\n",
       " ('않다', 'Verb'),\n",
       " ('ㅋㅋ', 'KoreanParticle')]"
      ]
     },
     "execution_count": 13,
     "metadata": {
      "tags": []
     },
     "output_type": "execute_result"
    }
   ],
   "source": [
    "# 한글 형태소 분석\n",
    "result = okt.pos('흠...포스터보고 초딩영화줄....오버연기조차 가볍지 않구나 ㅋㅋ', norm=True, stem=True)\n",
    "result"
   ]
  },
  {
   "cell_type": "code",
   "execution_count": null,
   "metadata": {
    "colab": {},
    "colab_type": "code",
    "id": "VxwFqPeVMkOI"
   },
   "outputs": [],
   "source": []
  }
 ],
 "metadata": {
  "accelerator": "GPU",
  "colab": {
   "authorship_tag": "ABX9TyOnvAZ4CWbCLZDSC2Z8BCTh",
   "collapsed_sections": [],
   "include_colab_link": true,
   "name": "Text_konlpy_test1.ipynb",
   "provenance": []
  },
  "kernelspec": {
   "display_name": "Python 3",
   "language": "python",
   "name": "python3"
  },
  "language_info": {
   "codemirror_mode": {
    "name": "ipython",
    "version": 3
   },
   "file_extension": ".py",
   "mimetype": "text/x-python",
   "name": "python",
   "nbconvert_exporter": "python",
   "pygments_lexer": "ipython3",
   "version": "3.8.3"
  }
 },
 "nbformat": 4,
 "nbformat_minor": 1
}
